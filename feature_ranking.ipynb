{
 "cells": [
  {
   "cell_type": "markdown",
   "metadata": {},
   "source": [
    "Install base libraries for processing input information"
   ]
  },
  {
   "cell_type": "code",
   "execution_count": 1,
   "metadata": {},
   "outputs": [],
   "source": [
    "import pandas as pd\n",
    "import numpy as np\n",
    "import matplotlib.pyplot as plt\n",
    "import dependencies"
   ]
  },
  {
   "cell_type": "markdown",
   "metadata": {},
   "source": [
    "Use pandas to load our csv dataset as a dataframe object.\n",
    "\n",
    "We can inspect it as well."
   ]
  },
  {
   "cell_type": "code",
   "execution_count": 2,
   "metadata": {},
   "outputs": [
    {
     "name": "stdout",
     "output_type": "stream",
     "text": [
      "    Outlook Temperature Humidity    Wind Prediction\n",
      "0     Sunny         Hot     High    Weak         No\n",
      "1     Sunny         Hot     High  Strong         No\n",
      "2  Overcast         Hot     High    Weak        Yes\n",
      "3      Rain        Mild     High    Weak        Yes\n",
      "4      Rain        Cool   Normal    Weak        Yes\n",
      "<class 'pandas.core.frame.DataFrame'>\n",
      "RangeIndex: 14 entries, 0 to 13\n",
      "Data columns (total 5 columns):\n",
      " #   Column       Non-Null Count  Dtype \n",
      "---  ------       --------------  ----- \n",
      " 0   Outlook      14 non-null     object\n",
      " 1   Temperature  14 non-null     object\n",
      " 2   Humidity     14 non-null     object\n",
      " 3   Wind         14 non-null     object\n",
      " 4   Prediction   14 non-null     object\n",
      "dtypes: object(5)\n",
      "memory usage: 692.0+ bytes\n",
      "None\n"
     ]
    }
   ],
   "source": [
    "# Input dataset path\n",
    "WEATHER_DATASET_FILE_PATH = \"./datasets/tennis-prediction-data.csv\"\n",
    "WEATHER_DATASET_OUTPUT_COL_NAME  = \"Prediction\"\n",
    "# Read the CSV file into a DataFrame\n",
    "weather_data = pd.read_csv(WEATHER_DATASET_FILE_PATH)\n",
    "# Display the DataFrame\n",
    "print(weather_data.head())\n",
    "print(weather_data.info())"
   ]
  },
  {
   "cell_type": "code",
   "execution_count": 3,
   "metadata": {},
   "outputs": [
    {
     "name": "stdout",
     "output_type": "stream",
     "text": [
      "Parent entropy: 0.9402859586706311\n",
      "\n",
      " Computing entropy for input feature: Outlook\n",
      "For Overcast:\n",
      " Num of positive examples: 0 \n",
      " Num of negative examples: 4\n",
      "Entropy for label, Overcast : 0\n",
      "Weighted entropy for label, Overcast : 0\n",
      "For Rain:\n",
      " Num of positive examples: 2 \n",
      " Num of negative examples: 3\n",
      "Entropy for label, Rain : 0.9709505944546686\n",
      "Weighted entropy for label, Rain : 0.34676806944809596\n",
      "For Sunny:\n",
      " Num of positive examples: 3 \n",
      " Num of negative examples: 2\n",
      "Entropy for label, Sunny : 0.9709505944546686\n",
      "Weighted entropy for label, Sunny : 0.34676806944809596\n",
      "\n",
      " Computing entropy for input feature: Temperature\n",
      "For Cool:\n",
      " Num of positive examples: 1 \n",
      " Num of negative examples: 3\n",
      "Entropy for label, Cool : 0.8112781244591328\n",
      "Weighted entropy for label, Cool : 0.23179374984546652\n",
      "For Hot:\n",
      " Num of positive examples: 2 \n",
      " Num of negative examples: 2\n",
      "Entropy for label, Hot : 1.0\n",
      "Weighted entropy for label, Hot : 0.2857142857142857\n",
      "For Mild:\n",
      " Num of positive examples: 2 \n",
      " Num of negative examples: 4\n",
      "Entropy for label, Mild : 0.9182958340544896\n",
      "Weighted entropy for label, Mild : 0.3935553574519241\n",
      "\n",
      " Computing entropy for input feature: Humidity\n",
      "For High:\n",
      " Num of positive examples: 4 \n",
      " Num of negative examples: 3\n",
      "Entropy for label, High : 0.9852281360342515\n",
      "Weighted entropy for label, High : 0.49261406801712576\n",
      "For Normal:\n",
      " Num of positive examples: 1 \n",
      " Num of negative examples: 6\n",
      "Entropy for label, Normal : 0.5916727785823275\n",
      "Weighted entropy for label, Normal : 0.29583638929116374\n",
      "\n",
      " Computing entropy for input feature: Wind\n",
      "For Strong:\n",
      " Num of positive examples: 3 \n",
      " Num of negative examples: 3\n",
      "Entropy for label, Strong : 1.0\n",
      "Weighted entropy for label, Strong : 0.42857142857142855\n",
      "For Weak:\n",
      " Num of positive examples: 2 \n",
      " Num of negative examples: 6\n",
      "Entropy for label, Weak : 0.8112781244591328\n",
      "Weighted entropy for label, Weak : 0.46358749969093305\n"
     ]
    },
    {
     "data": {
      "text/plain": [
       "{'Outlook': 0.24674981977443922,\n",
       " 'Temperature': 0.02922256565895487,\n",
       " 'Humidity': 0.15183550136234159,\n",
       " 'Wind': 0.04812703040826949}"
      ]
     },
     "execution_count": 3,
     "metadata": {},
     "output_type": "execute_result"
    }
   ],
   "source": [
    "dependencies.get_info_gain(WEATHER_DATASET_OUTPUT_COL_NAME, weather_data)"
   ]
  },
  {
   "cell_type": "code",
   "execution_count": 4,
   "metadata": {},
   "outputs": [
    {
     "name": "stdout",
     "output_type": "stream",
     "text": [
      "Parent entropy: 0.9402859586706311\n",
      "\n",
      " Computing entropy for input feature: Outlook\n",
      "For Overcast:\n",
      " Num of positive examples: 0 \n",
      " Num of negative examples: 4\n",
      "Entropy for label, Overcast : 0\n",
      "Weighted entropy for label, Overcast : 0\n",
      "For Rain:\n",
      " Num of positive examples: 2 \n",
      " Num of negative examples: 3\n",
      "Entropy for label, Rain : 0.9709505944546686\n",
      "Weighted entropy for label, Rain : 0.34676806944809596\n",
      "For Sunny:\n",
      " Num of positive examples: 3 \n",
      " Num of negative examples: 2\n",
      "Entropy for label, Sunny : 0.9709505944546686\n",
      "Weighted entropy for label, Sunny : 0.34676806944809596\n",
      "\n",
      " Computing entropy for input feature: Temperature\n",
      "For Cool:\n",
      " Num of positive examples: 1 \n",
      " Num of negative examples: 3\n",
      "Entropy for label, Cool : 0.8112781244591328\n",
      "Weighted entropy for label, Cool : 0.23179374984546652\n",
      "For Hot:\n",
      " Num of positive examples: 2 \n",
      " Num of negative examples: 2\n",
      "Entropy for label, Hot : 1.0\n",
      "Weighted entropy for label, Hot : 0.2857142857142857\n",
      "For Mild:\n",
      " Num of positive examples: 2 \n",
      " Num of negative examples: 4\n",
      "Entropy for label, Mild : 0.9182958340544896\n",
      "Weighted entropy for label, Mild : 0.3935553574519241\n",
      "\n",
      " Computing entropy for input feature: Humidity\n",
      "For High:\n",
      " Num of positive examples: 4 \n",
      " Num of negative examples: 3\n",
      "Entropy for label, High : 0.9852281360342515\n",
      "Weighted entropy for label, High : 0.49261406801712576\n",
      "For Normal:\n",
      " Num of positive examples: 1 \n",
      " Num of negative examples: 6\n",
      "Entropy for label, Normal : 0.5916727785823275\n",
      "Weighted entropy for label, Normal : 0.29583638929116374\n",
      "\n",
      " Computing entropy for input feature: Wind\n",
      "For Strong:\n",
      " Num of positive examples: 3 \n",
      " Num of negative examples: 3\n",
      "Entropy for label, Strong : 1.0\n",
      "Weighted entropy for label, Strong : 0.42857142857142855\n",
      "For Weak:\n",
      " Num of positive examples: 2 \n",
      " Num of negative examples: 6\n",
      "Entropy for label, Weak : 0.8112781244591328\n",
      "Weighted entropy for label, Weak : 0.46358749969093305\n",
      "Parent entropy: 0.9709505944546686\n",
      "\n",
      " Computing entropy for input feature: Temperature\n",
      "For Cool:\n",
      " Num of positive examples: 0 \n",
      " Num of negative examples: 1\n",
      "Entropy for label, Cool : 0\n",
      "Weighted entropy for label, Cool : 0\n",
      "For Hot:\n",
      " Num of positive examples: 2 \n",
      " Num of negative examples: 0\n",
      "Entropy for label, Hot : 0\n",
      "Weighted entropy for label, Hot : 0\n",
      "For Mild:\n",
      " Num of positive examples: 1 \n",
      " Num of negative examples: 1\n",
      "Entropy for label, Mild : 1.0\n",
      "Weighted entropy for label, Mild : 0.4\n",
      "\n",
      " Computing entropy for input feature: Humidity\n",
      "For High:\n",
      " Num of positive examples: 3 \n",
      " Num of negative examples: 0\n",
      "Entropy for label, High : 0\n",
      "Weighted entropy for label, High : 0\n",
      "For Normal:\n",
      " Num of positive examples: 0 \n",
      " Num of negative examples: 2\n",
      "Entropy for label, Normal : 0\n",
      "Weighted entropy for label, Normal : 0\n",
      "\n",
      " Computing entropy for input feature: Wind\n",
      "For Strong:\n",
      " Num of positive examples: 1 \n",
      " Num of negative examples: 1\n",
      "Entropy for label, Strong : 1.0\n",
      "Weighted entropy for label, Strong : 0.4\n",
      "For Weak:\n",
      " Num of positive examples: 2 \n",
      " Num of negative examples: 1\n",
      "Entropy for label, Weak : 0.9182958340544896\n",
      "Weighted entropy for label, Weak : 0.5509775004326938\n",
      "Parent entropy: 0.9709505944546686\n",
      "\n",
      " Computing entropy for input feature: Temperature\n",
      "For Cool:\n",
      " Num of positive examples: 1 \n",
      " Num of negative examples: 1\n",
      "Entropy for label, Cool : 1.0\n",
      "Weighted entropy for label, Cool : 0.4\n",
      "For Mild:\n",
      " Num of positive examples: 1 \n",
      " Num of negative examples: 2\n",
      "Entropy for label, Mild : 0.9182958340544896\n",
      "Weighted entropy for label, Mild : 0.5509775004326938\n",
      "\n",
      " Computing entropy for input feature: Humidity\n",
      "For High:\n",
      " Num of positive examples: 1 \n",
      " Num of negative examples: 1\n",
      "Entropy for label, High : 1.0\n",
      "Weighted entropy for label, High : 0.4\n",
      "For Normal:\n",
      " Num of positive examples: 1 \n",
      " Num of negative examples: 2\n",
      "Entropy for label, Normal : 0.9182958340544896\n",
      "Weighted entropy for label, Normal : 0.5509775004326938\n",
      "\n",
      " Computing entropy for input feature: Wind\n",
      "For Strong:\n",
      " Num of positive examples: 2 \n",
      " Num of negative examples: 0\n",
      "Entropy for label, Strong : 0\n",
      "Weighted entropy for label, Strong : 0\n",
      "For Weak:\n",
      " Num of positive examples: 0 \n",
      " Num of negative examples: 3\n",
      "Entropy for label, Weak : 0\n",
      "Weighted entropy for label, Weak : 0\n",
      "Decision tree rendered and saved as decision_tree.png\n"
     ]
    }
   ],
   "source": [
    "features = [col for col in weather_data.columns if col != WEATHER_DATASET_OUTPUT_COL_NAME]\n",
    "root_node = dependencies.build_decision_tree(weather_data, WEATHER_DATASET_OUTPUT_COL_NAME, features)\n",
    "dependencies.render_tree(root_node)"
   ]
  },
  {
   "cell_type": "code",
   "execution_count": 5,
   "metadata": {},
   "outputs": [
    {
     "data": {
      "image/png": "[encoded data removed]",
      "text/plain": [
       "<IPython.core.display.Image object>"
      ]
     },
     "execution_count": 5,
     "metadata": {},
     "output_type": "execute_result"
    }
   ],
   "source": [
    "from IPython.display import Image\n",
    "Image(filename='decision_tree.png')"
   ]
  }
 ],
 "metadata": {
  "kernelspec": {
   "display_name": "efficientai-mcperera",
   "language": "python",
   "name": "python3"
  },
  "language_info": {
   "codemirror_mode": {
    "name": "ipython",
    "version": 3
   },
   "file_extension": ".py",
   "mimetype": "text/x-python",
   "name": "python",
   "nbconvert_exporter": "python",
   "pygments_lexer": "ipython3",
   "version": "3.12.0"
  }
 },
 "nbformat": 4,
 "nbformat_minor": 2
}
