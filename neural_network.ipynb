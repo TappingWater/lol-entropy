{
 "cells": [
  {
   "cell_type": "code",
   "execution_count": 11,
   "metadata": {},
   "outputs": [],
   "source": [
    "import pandas as pd\n",
    "import matplotlib.pyplot as plt\n",
    "from sklearn.datasets import load_iris\n",
    "import dependencies\n",
    "\n",
    "SEED = 13\n",
    "NUM_EPOCHS = 1000\n",
    "LEARNING_RATE = 0.01"
   ]
  },
  {
   "cell_type": "markdown",
   "metadata": {},
   "source": [
    "Use scikit-learn to load the iris plant dataset"
   ]
  },
  {
   "cell_type": "code",
   "execution_count": 12,
   "metadata": {},
   "outputs": [
    {
     "name": "stdout",
     "output_type": "stream",
     "text": [
      "   sepal length (cm)  sepal width (cm)  petal length (cm)  petal width (cm)  \\\n",
      "0                5.1               3.5                1.4               0.2   \n",
      "1                4.9               3.0                1.4               0.2   \n",
      "2                4.7               3.2                1.3               0.2   \n",
      "3                4.6               3.1                1.5               0.2   \n",
      "4                5.0               3.6                1.4               0.2   \n",
      "\n",
      "   target  \n",
      "0       0  \n",
      "1       0  \n",
      "2       0  \n",
      "3       0  \n",
      "4       0  \n",
      "<class 'pandas.core.frame.DataFrame'>\n",
      "RangeIndex: 150 entries, 0 to 149\n",
      "Data columns (total 5 columns):\n",
      " #   Column             Non-Null Count  Dtype  \n",
      "---  ------             --------------  -----  \n",
      " 0   sepal length (cm)  150 non-null    float64\n",
      " 1   sepal width (cm)   150 non-null    float64\n",
      " 2   petal length (cm)  150 non-null    float64\n",
      " 3   petal width (cm)   150 non-null    float64\n",
      " 4   target             150 non-null    int64  \n",
      "dtypes: float64(4), int64(1)\n",
      "memory usage: 6.0 KB\n",
      "None\n"
     ]
    }
   ],
   "source": [
    "\n",
    "# Load the dataset\n",
    "iris = load_iris()\n",
    "# Convert the data to a data frame object for analysis\n",
    "iris_df = pd.DataFrame(iris.data, columns=iris.feature_names)\n",
    "iris_df['target'] = iris.target\n",
    "# Analyze the set\n",
    "print(iris_df.head())\n",
    "print(iris_df.info())"
   ]
  },
  {
   "cell_type": "markdown",
   "metadata": {},
   "source": [
    "Standardize values"
   ]
  },
  {
   "cell_type": "code",
   "execution_count": 13,
   "metadata": {},
   "outputs": [
    {
     "name": "stdout",
     "output_type": "stream",
     "text": [
      "   sepal length (cm)  sepal width (cm)  petal length (cm)  petal width (cm)\n",
      "0          -0.900681          1.019004          -1.340227         -1.315444\n",
      "1          -1.143017         -0.131979          -1.340227         -1.315444\n",
      "2          -1.385353          0.328414          -1.397064         -1.315444\n",
      "3          -1.506521          0.098217          -1.283389         -1.315444\n",
      "4          -1.021849          1.249201          -1.340227         -1.315444\n",
      "<class 'pandas.core.frame.DataFrame'>\n",
      "RangeIndex: 150 entries, 0 to 149\n",
      "Data columns (total 4 columns):\n",
      " #   Column             Non-Null Count  Dtype  \n",
      "---  ------             --------------  -----  \n",
      " 0   sepal length (cm)  150 non-null    float64\n",
      " 1   sepal width (cm)   150 non-null    float64\n",
      " 2   petal length (cm)  150 non-null    float64\n",
      " 3   petal width (cm)   150 non-null    float64\n",
      "dtypes: float64(4)\n",
      "memory usage: 4.8 KB\n",
      "None\n"
     ]
    }
   ],
   "source": [
    "from sklearn.preprocessing import StandardScaler\n",
    "# Separate features and target\n",
    "features = iris.feature_names\n",
    "iris_input_features = iris_df[features]\n",
    "iris_labels = iris_df['target']\n",
    "# Standardize features\n",
    "scaler = StandardScaler()\n",
    "scaled_iris_dataset = scaler.fit_transform(iris_input_features)\n",
    "# Convert to DataFrame\n",
    "scaled_iris_df = pd.DataFrame(scaled_iris_dataset, columns=features)\n",
    "# Analyze the set\n",
    "print(scaled_iris_df.head())\n",
    "print(scaled_iris_df.info())"
   ]
  },
  {
   "cell_type": "markdown",
   "metadata": {},
   "source": [
    "One hot encode the target variables"
   ]
  },
  {
   "cell_type": "code",
   "execution_count": 14,
   "metadata": {},
   "outputs": [
    {
     "name": "stdout",
     "output_type": "stream",
     "text": [
      "0      0\n",
      "1      0\n",
      "2      0\n",
      "3      0\n",
      "4      0\n",
      "      ..\n",
      "145    2\n",
      "146    2\n",
      "147    2\n",
      "148    2\n",
      "149    2\n",
      "Name: target, Length: 150, dtype: int64\n",
      "[[ True False False]\n",
      " [ True False False]\n",
      " [ True False False]\n",
      " [ True False False]\n",
      " [ True False False]\n",
      " [ True False False]\n",
      " [ True False False]\n",
      " [ True False False]\n",
      " [ True False False]\n",
      " [ True False False]\n",
      " [ True False False]\n",
      " [ True False False]\n",
      " [ True False False]\n",
      " [ True False False]\n",
      " [ True False False]\n",
      " [ True False False]\n",
      " [ True False False]\n",
      " [ True False False]\n",
      " [ True False False]\n",
      " [ True False False]\n",
      " [ True False False]\n",
      " [ True False False]\n",
      " [ True False False]\n",
      " [ True False False]\n",
      " [ True False False]\n",
      " [ True False False]\n",
      " [ True False False]\n",
      " [ True False False]\n",
      " [ True False False]\n",
      " [ True False False]\n",
      " [ True False False]\n",
      " [ True False False]\n",
      " [ True False False]\n",
      " [ True False False]\n",
      " [ True False False]\n",
      " [ True False False]\n",
      " [ True False False]\n",
      " [ True False False]\n",
      " [ True False False]\n",
      " [ True False False]\n",
      " [ True False False]\n",
      " [ True False False]\n",
      " [ True False False]\n",
      " [ True False False]\n",
      " [ True False False]\n",
      " [ True False False]\n",
      " [ True False False]\n",
      " [ True False False]\n",
      " [ True False False]\n",
      " [ True False False]\n",
      " [False  True False]\n",
      " [False  True False]\n",
      " [False  True False]\n",
      " [False  True False]\n",
      " [False  True False]\n",
      " [False  True False]\n",
      " [False  True False]\n",
      " [False  True False]\n",
      " [False  True False]\n",
      " [False  True False]\n",
      " [False  True False]\n",
      " [False  True False]\n",
      " [False  True False]\n",
      " [False  True False]\n",
      " [False  True False]\n",
      " [False  True False]\n",
      " [False  True False]\n",
      " [False  True False]\n",
      " [False  True False]\n",
      " [False  True False]\n",
      " [False  True False]\n",
      " [False  True False]\n",
      " [False  True False]\n",
      " [False  True False]\n",
      " [False  True False]\n",
      " [False  True False]\n",
      " [False  True False]\n",
      " [False  True False]\n",
      " [False  True False]\n",
      " [False  True False]\n",
      " [False  True False]\n",
      " [False  True False]\n",
      " [False  True False]\n",
      " [False  True False]\n",
      " [False  True False]\n",
      " [False  True False]\n",
      " [False  True False]\n",
      " [False  True False]\n",
      " [False  True False]\n",
      " [False  True False]\n",
      " [False  True False]\n",
      " [False  True False]\n",
      " [False  True False]\n",
      " [False  True False]\n",
      " [False  True False]\n",
      " [False  True False]\n",
      " [False  True False]\n",
      " [False  True False]\n",
      " [False  True False]\n",
      " [False  True False]\n",
      " [False False  True]\n",
      " [False False  True]\n",
      " [False False  True]\n",
      " [False False  True]\n",
      " [False False  True]\n",
      " [False False  True]\n",
      " [False False  True]\n",
      " [False False  True]\n",
      " [False False  True]\n",
      " [False False  True]\n",
      " [False False  True]\n",
      " [False False  True]\n",
      " [False False  True]\n",
      " [False False  True]\n",
      " [False False  True]\n",
      " [False False  True]\n",
      " [False False  True]\n",
      " [False False  True]\n",
      " [False False  True]\n",
      " [False False  True]\n",
      " [False False  True]\n",
      " [False False  True]\n",
      " [False False  True]\n",
      " [False False  True]\n",
      " [False False  True]\n",
      " [False False  True]\n",
      " [False False  True]\n",
      " [False False  True]\n",
      " [False False  True]\n",
      " [False False  True]\n",
      " [False False  True]\n",
      " [False False  True]\n",
      " [False False  True]\n",
      " [False False  True]\n",
      " [False False  True]\n",
      " [False False  True]\n",
      " [False False  True]\n",
      " [False False  True]\n",
      " [False False  True]\n",
      " [False False  True]\n",
      " [False False  True]\n",
      " [False False  True]\n",
      " [False False  True]\n",
      " [False False  True]\n",
      " [False False  True]\n",
      " [False False  True]\n",
      " [False False  True]\n",
      " [False False  True]\n",
      " [False False  True]\n",
      " [False False  True]]\n"
     ]
    }
   ],
   "source": [
    "print(iris_labels)\n",
    "encoded_iris_labels = pd.get_dummies(iris_labels).values\n",
    "print(encoded_iris_labels)"
   ]
  },
  {
   "cell_type": "markdown",
   "metadata": {},
   "source": [
    "Split training and test sets for neural network"
   ]
  },
  {
   "cell_type": "code",
   "execution_count": 15,
   "metadata": {},
   "outputs": [],
   "source": [
    "from sklearn.model_selection import train_test_split\n",
    "\n",
    "ft_train, ft_test, label_train, label_test = train_test_split(\n",
    "\tscaled_iris_df.values, encoded_iris_labels, train_size=0.8, test_size=0.2, random_state=SEED\n",
    ")"
   ]
  },
  {
   "cell_type": "markdown",
   "metadata": {},
   "source": [
    "Lets create a simple hidden layer"
   ]
  },
  {
   "cell_type": "code",
   "execution_count": 16,
   "metadata": {},
   "outputs": [
    {
     "name": "stdout",
     "output_type": "stream",
     "text": [
      "{'W1': array([[-0.50373627,  0.53299332, -0.03146843,  0.31947957,  0.95113054],\n",
      "       [ 0.37641973,  0.95472702,  0.6089684 ,  1.04558871, -0.73919326],\n",
      "       [-0.55789949, -0.89209012,  0.39799278, -0.17205764,  0.64611225],\n",
      "       [ 0.22440099,  0.09001701,  1.52055038,  0.42871082, -0.01893042]]), 'b1': array([[0., 0., 0., 0., 0.]]), 'W2': array([[-0.62243793,  0.75306814,  0.60262299, -0.68759401, -0.09183971],\n",
      "       [ 0.15043451, -1.0366537 , -0.17590771,  0.88495608, -1.02148397],\n",
      "       [ 0.31045461,  1.19707529, -0.39274205, -0.2869782 ,  0.1375285 ],\n",
      "       [ 0.32529013,  0.25123747, -0.95680726, -0.48321751,  0.06404864],\n",
      "       [-0.20065662,  0.71994503, -0.20372889, -0.23408196,  1.1697977 ]]), 'b2': array([[0., 0., 0., 0., 0.]]), 'W3': array([[-0.05164098, -0.61997992, -0.00151095],\n",
      "       [-0.14699903,  0.44965994,  0.28660267],\n",
      "       [-0.21040263, -0.24315239, -0.3354085 ],\n",
      "       [ 0.8540085 ,  1.27453756, -0.03638668],\n",
      "       [ 0.35711873,  0.22738819, -0.32379516]]), 'b3': array([[0., 0., 0.]])}\n"
     ]
    }
   ],
   "source": [
    "## Use function to initialize parameters for our final network\n",
    "input_size = ft_train.shape[1]\n",
    "output_size = label_train.shape[1]\n",
    "\n",
    "layer_sizes = [input_size, 5, 5, output_size]\n",
    "iris_10_20_parameters = dependencies.initialize_parameters(layer_sizes)\n",
    "print(iris_10_20_parameters)"
   ]
  },
  {
   "cell_type": "code",
   "execution_count": 17,
   "metadata": {},
   "outputs": [
    {
     "name": "stdout",
     "output_type": "stream",
     "text": [
      "Epoch 100/1000, Loss: 0.8036\n",
      "Epoch 200/1000, Loss: 0.6855\n",
      "Epoch 300/1000, Loss: 0.5526\n",
      "Epoch 400/1000, Loss: 0.4336\n",
      "Epoch 500/1000, Loss: 0.3642\n",
      "Epoch 600/1000, Loss: 0.3210\n",
      "Epoch 700/1000, Loss: 0.2885\n",
      "Epoch 800/1000, Loss: 0.2637\n",
      "Epoch 900/1000, Loss: 0.2425\n",
      "Epoch 1000/1000, Loss: 0.2240\n"
     ]
    },
    {
     "data": {
      "image/png": "[encoded data removed]",
      "text/plain": [
       "<Figure size 640x480 with 1 Axes>"
      ]
     },
     "metadata": {},
     "output_type": "display_data"
    }
   ],
   "source": [
    "parameters, loss_history = dependencies.train(\n",
    "    ft_train, label_train, layer_sizes, epochs=NUM_EPOCHS, learning_rate=LEARNING_RATE\n",
    ")\n",
    "plt.plot(loss_history)\n",
    "plt.xlabel('Epochs')\n",
    "plt.ylabel('Loss')\n",
    "plt.title('Training Loss over Epochs')\n",
    "plt.show()\n"
   ]
  },
  {
   "cell_type": "code",
   "execution_count": 18,
   "metadata": {},
   "outputs": [
    {
     "name": "stdout",
     "output_type": "stream",
     "text": [
      "Test set accuracy: 96.67%\n"
     ]
    }
   ],
   "source": [
    "# Make predictions on the test set\n",
    "predictions = dependencies.predict(ft_test, parameters)\n",
    "true_labels = dependencies.np.argmax(label_test, axis=1)\n",
    "\n",
    "# Calculate accuracy\n",
    "accuracy = dependencies.np.mean(predictions == true_labels)\n",
    "print(f'Test set accuracy: {accuracy * 100:.2f}%')"
   ]
  },
  {
   "cell_type": "code",
   "execution_count": 19,
   "metadata": {},
   "outputs": [
    {
     "name": "stdout",
     "output_type": "stream",
     "text": [
      "Epoch 100/1000, Loss: 0.8036\n",
      "Epoch 200/1000, Loss: 0.6855\n",
      "Epoch 300/1000, Loss: 0.5526\n",
      "Epoch 400/1000, Loss: 0.4336\n",
      "Epoch 500/1000, Loss: 0.3642\n",
      "Epoch 600/1000, Loss: 0.3210\n",
      "Epoch 700/1000, Loss: 0.2885\n",
      "Epoch 800/1000, Loss: 0.2637\n",
      "Epoch 900/1000, Loss: 0.2425\n",
      "Epoch 1000/1000, Loss: 0.2240\n",
      "Dropping feature: sepal length (cm) with accuracy: 0.9417\n",
      "Epoch 100/1000, Loss: 1.0912\n",
      "Epoch 200/1000, Loss: 1.0099\n",
      "Epoch 300/1000, Loss: 0.9440\n",
      "Epoch 400/1000, Loss: 0.8900\n",
      "Epoch 500/1000, Loss: 0.8401\n",
      "Epoch 600/1000, Loss: 0.7751\n",
      "Epoch 700/1000, Loss: 0.6873\n",
      "Epoch 800/1000, Loss: 0.5777\n",
      "Epoch 900/1000, Loss: 0.4852\n",
      "Epoch 1000/1000, Loss: 0.4051\n",
      "Dropping feature: petal width (cm) with accuracy: 0.9500\n",
      "Epoch 100/1000, Loss: 0.8576\n",
      "Epoch 200/1000, Loss: 0.6841\n",
      "Epoch 300/1000, Loss: 0.5832\n",
      "Epoch 400/1000, Loss: 0.5062\n",
      "Epoch 500/1000, Loss: 0.4496\n",
      "Epoch 600/1000, Loss: 0.4068\n",
      "Epoch 700/1000, Loss: 0.3730\n",
      "Epoch 800/1000, Loss: 0.3441\n",
      "Epoch 900/1000, Loss: 0.3178\n",
      "Epoch 1000/1000, Loss: 0.2956\n",
      "Dropping feature: sepal width (cm) with accuracy: 0.9083\n",
      "Epoch 100/1000, Loss: 0.6801\n",
      "Epoch 200/1000, Loss: 0.5005\n",
      "Epoch 300/1000, Loss: 0.4056\n",
      "Epoch 400/1000, Loss: 0.3404\n",
      "Epoch 500/1000, Loss: 0.2939\n",
      "Epoch 600/1000, Loss: 0.2600\n",
      "Epoch 700/1000, Loss: 0.2343\n",
      "Epoch 800/1000, Loss: 0.2145\n",
      "Epoch 900/1000, Loss: 0.1990\n",
      "Epoch 1000/1000, Loss: 0.1867\n",
      "Dropping feature: petal length (cm) with accuracy: 0.9500\n",
      "Selected features after backward feature elimination: []\n"
     ]
    },
    {
     "data": {
      "image/png": "[encoded data removed]",
      "text/plain": [
       "<Figure size 800x600 with 1 Axes>"
      ]
     },
     "metadata": {},
     "output_type": "display_data"
    }
   ],
   "source": [
    "feature_names = iris.feature_names\n",
    "selected_features, performance_history = dependencies.backward_feature_elimination(\n",
    "    ft_train, label_train, feature_names, layer_sizes, epochs=1000, learning_rate=0.01, min_features=1\n",
    ")\n",
    "\n",
    "print(\"Selected features after backward feature elimination:\", selected_features)\n",
    "\n",
    "# Plot the performance history\n",
    "features_count = [item[0] for item in performance_history]\n",
    "accuracies = [item[1] for item in performance_history]\n",
    "\n",
    "plt.figure(figsize=(8, 6))\n",
    "plt.plot(features_count, accuracies, marker='o')\n",
    "plt.xlabel('Number of Features')\n",
    "plt.ylabel('Accuracy')\n",
    "plt.title('Backward Feature Elimination Performance')\n",
    "plt.gca().invert_xaxis()  # Invert x-axis to show decreasing number of features\n",
    "plt.grid(True)\n",
    "plt.show()"
   ]
  }
 ],
 "metadata": {
  "kernelspec": {
   "display_name": "efficientai-mcperera",
   "language": "python",
   "name": "python3"
  },
  "language_info": {
   "codemirror_mode": {
    "name": "ipython",
    "version": 3
   },
   "file_extension": ".py",
   "mimetype": "text/x-python",
   "name": "python",
   "nbconvert_exporter": "python",
   "pygments_lexer": "ipython3",
   "version": "3.12.0"
  }
 },
 "nbformat": 4,
 "nbformat_minor": 2
}
